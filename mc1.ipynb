{
  "nbformat": 4,
  "nbformat_minor": 0,
  "metadata": {
    "colab": {
      "provenance": [],
      "authorship_tag": "ABX9TyM8Dqj1aECG0B0ufcNHKQSZ",
      "include_colab_link": true
    },
    "kernelspec": {
      "name": "python3",
      "display_name": "Python 3"
    },
    "language_info": {
      "name": "python"
    }
  },
  "cells": [
    {
      "cell_type": "markdown",
      "metadata": {
        "id": "view-in-github",
        "colab_type": "text"
      },
      "source": [
        "<a href=\"https://colab.research.google.com/github/M0J3S/Mobile-Communication/blob/main/mc1.ipynb\" target=\"_parent\"><img src=\"https://colab.research.google.com/assets/colab-badge.svg\" alt=\"Open In Colab\"/></a>"
      ]
    },
    {
      "cell_type": "code",
      "execution_count": null,
      "metadata": {
        "id": "nfnnc_LKlS9r"
      },
      "outputs": [],
      "source": [
        "import numpy as np\n",
        "import matplotlib.pyplot as plt"
      ]
    },
    {
      "cell_type": "code",
      "source": [
        "def sc(N,TA,CA,TC):\n",
        "  ca= int(N*CA)\n",
        "  m = int(TA/ca)\n",
        "  #print(\"replications\",m)\n",
        "  k= int(TC/N)\n",
        "  #print(\"channel per call\",k)\n",
        "  sc = int(m*k*N)\n",
        "  #print(\"scheduled calls\",sc)\n",
        "  return sc"
      ],
      "metadata": {
        "id": "ZJp8RoOQlajf"
      },
      "execution_count": null,
      "outputs": []
    },
    {
      "cell_type": "code",
      "source": [
        "n1= []\n",
        "n2= []\n",
        "n3= [1,3,5,7,9,12,15,17,19,21]\n",
        "for i in range(1,5):\n",
        "  for j in range(1,5):\n",
        "    N = i+j+i*j\n",
        "    if N in n3:\n",
        "      e=N\n",
        "      n1.append(e)\n",
        "      r=sc(N,4200,12,100)\n",
        "      n2.append(r)\n",
        "print(n1)\n",
        "print(n2)\n",
        "print(n3)\n"
      ],
      "metadata": {
        "colab": {
          "base_uri": "https://localhost:8080/"
        },
        "id": "0mlh485wmTWk",
        "outputId": "1c8b1676-5caf-4f45-e945-856f4b85a719"
      },
      "execution_count": null,
      "outputs": [
        {
          "output_type": "stream",
          "name": "stdout",
          "text": [
            "[3, 5, 7, 9, 5, 7, 15, 19, 9, 19]\n",
            "[11484, 7000, 4900, 3762, 7000, 4900, 2070, 1710, 3762, 1710]\n",
            "[1, 3, 5, 7, 9, 12, 15, 17, 19, 21]\n"
          ]
        }
      ]
    },
    {
      "cell_type": "code",
      "source": [
        "plt.stem(n1,n2)"
      ],
      "metadata": {
        "colab": {
          "base_uri": "https://localhost:8080/",
          "height": 451
        },
        "id": "sbdCX8YankE2",
        "outputId": "d675bf38-5c36-4a5a-a083-6e58533da942"
      },
      "execution_count": null,
      "outputs": [
        {
          "output_type": "execute_result",
          "data": {
            "text/plain": [
              "<StemContainer object of 3 artists>"
            ]
          },
          "metadata": {},
          "execution_count": 11
        },
        {
          "output_type": "display_data",
          "data": {
            "text/plain": [
              "<Figure size 640x480 with 1 Axes>"
            ],
            "image/png": "[encoded data removed]"
          },
          "metadata": {}
        }
      ]
    }
  ]
}