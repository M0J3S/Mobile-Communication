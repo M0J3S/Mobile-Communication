{
  "nbformat": 4,
  "nbformat_minor": 0,
  "metadata": {
    "colab": {
      "provenance": [],
      "authorship_tag": "ABX9TyO325bwTs1S896b0vY4A7+q",
      "include_colab_link": true
    },
    "kernelspec": {
      "name": "python3",
      "display_name": "Python 3"
    },
    "language_info": {
      "name": "python"
    }
  },
  "cells": [
    {
      "cell_type": "markdown",
      "metadata": {
        "id": "view-in-github",
        "colab_type": "text"
      },
      "source": [
        "<a href=\"https://colab.research.google.com/github/M0J3S/Mobile-Communication/blob/main/mc_2.ipynb\" target=\"_parent\"><img src=\"https://colab.research.google.com/assets/colab-badge.svg\" alt=\"Open In Colab\"/></a>"
      ]
    },
    {
      "cell_type": "code",
      "execution_count": null,
      "metadata": {
        "id": "3QcAZNGoo0Ir"
      },
      "outputs": [],
      "source": [
        "import numpy as np\n",
        "import matplotlib.pyplot as plt"
      ]
    },
    {
      "cell_type": "code",
      "source": [
        "def q(N):\n",
        "  q=(3*N)**0.5\n",
        "  return q;\n"
      ],
      "metadata": {
        "id": "9P4TC-ubpHDf"
      },
      "execution_count": null,
      "outputs": []
    },
    {
      "cell_type": "code",
      "source": [
        "n1 = []\n",
        "n2 = []\n",
        "for i in range(1,5):\n",
        "  for j in range(1,5):\n",
        "    N = i+j+i*j\n",
        "    n1.append(N)\n",
        "    r=np.round(q(N),2)\n",
        "    n2.append(r)\n",
        "print(n1)\n",
        "print(n2)"
      ],
      "metadata": {
        "colab": {
          "base_uri": "https://localhost:8080/"
        },
        "id": "3r_1A3p9pbCI",
        "outputId": "d9fdb5c1-f579-4ea8-9709-a28cb0152f09"
      },
      "execution_count": null,
      "outputs": [
        {
          "output_type": "stream",
          "name": "stdout",
          "text": [
            "[3, 5, 7, 9, 5, 8, 11, 14, 7, 11, 15, 19, 9, 14, 19, 24]\n",
            "[3.0, 3.87, 4.58, 5.2, 3.87, 4.9, 5.74, 6.48, 4.58, 5.74, 6.71, 7.55, 5.2, 6.48, 7.55, 8.49]\n"
          ]
        }
      ]
    },
    {
      "cell_type": "code",
      "source": [
        "plt.stem(n1,n2)"
      ],
      "metadata": {
        "id": "sb5oxsYQqJzA",
        "outputId": "ad009985-2a63-4595-9006-d6c65335b1dc",
        "colab": {
          "base_uri": "https://localhost:8080/",
          "height": 447
        }
      },
      "execution_count": null,
      "outputs": [
        {
          "output_type": "execute_result",
          "data": {
            "text/plain": [
              "<StemContainer object of 3 artists>"
            ]
          },
          "metadata": {},
          "execution_count": 10
        },
        {
          "output_type": "display_data",
          "data": {
            "text/plain": [
              "<Figure size 640x480 with 1 Axes>"
            ],
            "image/png": "[encoded data removed]"
          },
          "metadata": {}
        }
      ]
    }
  ]
}