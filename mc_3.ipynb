{
  "nbformat": 4,
  "nbformat_minor": 0,
  "metadata": {
    "colab": {
      "provenance": [],
      "authorship_tag": "ABX9TyNR++prxbE+CHrLeMC0Rh4G",
      "include_colab_link": true
    },
    "kernelspec": {
      "name": "python3",
      "display_name": "Python 3"
    },
    "language_info": {
      "name": "python"
    }
  },
  "cells": [
    {
      "cell_type": "markdown",
      "metadata": {
        "id": "view-in-github",
        "colab_type": "text"
      },
      "source": [
        "<a href=\"https://colab.research.google.com/github/M0J3S/Mobile-Communication/blob/main/mc_3.ipynb\" target=\"_parent\"><img src=\"https://colab.research.google.com/assets/colab-badge.svg\" alt=\"Open In Colab\"/></a>"
      ]
    },
    {
      "cell_type": "code",
      "execution_count": null,
      "metadata": {
        "id": "wyLInTpSVHg4"
      },
      "outputs": [],
      "source": [
        "import math\n",
        "import numpy as np"
      ]
    },
    {
      "cell_type": "code",
      "source": [
        "def no_of_cell(ta,r):\n",
        "  ac = 2.56*r**2\n",
        "  no_of_cell = ta/ac\n",
        "  return no_of_cell\n",
        "\n",
        "result = no_of_cell(1300,4)\n",
        "print(\"no_of_cell = \", np.round(result, 2))"
      ],
      "metadata": {
        "colab": {
          "base_uri": "https://localhost:8080/"
        },
        "id": "SIYQm1bwVTqg",
        "outputId": "115ff987-e759-4e49-81cd-ea2da166c7d0"
      },
      "execution_count": null,
      "outputs": [
        {
          "output_type": "stream",
          "name": "stdout",
          "text": [
            "no_of_cell =  31.74\n"
          ]
        }
      ]
    },
    {
      "cell_type": "code",
      "source": [
        "def no_of_channel_cluster(T_BW, C_BW):\n",
        "  no_of_channel_cluster = T_BW/C_BW\n",
        "  return no_of_channel_cluster\n",
        "\n",
        "result = no_of_channel_cluster(40000000, 60000)\n",
        "print(\"no_of_channel_cluster\", np.round(result, 2))\n",
        "\n",
        "no_of_channel_per_cell = result/4\n",
        "print(\"no_of_channel_per_cell\", np.round(no_of_channel_per_cell,2))\n"
      ],
      "metadata": {
        "colab": {
          "base_uri": "https://localhost:8080/"
        },
        "id": "jYuY-0HHWT17",
        "outputId": "23814fdf-3865-4be9-ad9d-9bdfe5f3d7b3"
      },
      "execution_count": null,
      "outputs": [
        {
          "output_type": "stream",
          "name": "stdout",
          "text": [
            "no_of_channel_cluster 666.67\n",
            "no_of_channel_per_cell 166.67\n"
          ]
        }
      ]
    },
    {
      "cell_type": "code",
      "source": [
        "def main_carried_traffic(y):\n",
        "  main_carried_traffic = y*84\n",
        "  return main_carried_traffic\n",
        "\n",
        "result = main_carried_traffic(31.74)\n",
        "print(\"main_carried_traffic\", np.round(result, 2))"
      ],
      "metadata": {
        "colab": {
          "base_uri": "https://localhost:8080/"
        },
        "id": "5x5CkKPRXuyh",
        "outputId": "e93d19fa-20ed-4f91-a744-eb9383d90394"
      },
      "execution_count": null,
      "outputs": [
        {
          "output_type": "stream",
          "name": "stdout",
          "text": [
            "main_carried_traffic 2666.16\n"
          ]
        }
      ]
    },
    {
      "cell_type": "code",
      "source": [
        "y = 31.74\n",
        "user = result/0.03\n",
        "\n",
        "print(\"user\", np.round(user, 2))"
      ],
      "metadata": {
        "colab": {
          "base_uri": "https://localhost:8080/"
        },
        "id": "3RcYHjeRYHzM",
        "outputId": "837db3a3-20b8-49dd-aa6f-ad21d3d41404"
      },
      "execution_count": null,
      "outputs": [
        {
          "output_type": "stream",
          "name": "stdout",
          "text": [
            "user 88872.0\n"
          ]
        }
      ]
    },
    {
      "cell_type": "code",
      "source": [
        "def mobile_per_unit__channel(T_user,no_of_channel_cell):\n",
        "  mobile_per_unit__channel = T_user/no_of_channel_cell\n",
        "  return mobile_per_unit__channel\n",
        "\n",
        "result = mobile_per_unit__channel(user,no_of_channel_per_cell)\n",
        "print(\"mobile_per_unit__channel\", np.round(result, 2))"
      ],
      "metadata": {
        "colab": {
          "base_uri": "https://localhost:8080/"
        },
        "id": "MDxuPIhSYiBL",
        "outputId": "fc119b75-6c09-4e3e-ea55-22ee03fca426"
      },
      "execution_count": null,
      "outputs": [
        {
          "output_type": "stream",
          "name": "stdout",
          "text": [
            "mobile_per_unit__channel 533.23\n"
          ]
        }
      ]
    },
    {
      "cell_type": "code",
      "source": [
        "def max_user(no_of_cell, no_of_channel_per_cell):\n",
        "  max_user = no_of_cell*no_of_channel_per_cell\n",
        "  return max_user\n",
        "\n",
        "result = max_user(y, no_of_channel_per_cell)\n",
        "print(\"max_user\", np.round(result, 2))"
      ],
      "metadata": {
        "colab": {
          "base_uri": "https://localhost:8080/"
        },
        "id": "Mfm9ZPmfaX5X",
        "outputId": "ad3bcba8-6cde-4186-c136-b57217ffef22"
      },
      "execution_count": null,
      "outputs": [
        {
          "output_type": "stream",
          "name": "stdout",
          "text": [
            "max_user 5290.0\n"
          ]
        }
      ]
    },
    {
      "cell_type": "code",
      "source": [
        "n1,n2 = [],[]\n",
        "ns = [3,4,7,9,12,13,19,21,27]\n",
        "for i in range(1,5):\n",
        "  for j in range(1,5):\n",
        "    N = i**2+j**2+i*j\n",
        "    n1.append(N)\n",
        "    r= max_user(y, no_of_channel_per_cell)\n",
        "    n2.append(r)\n",
        "print(n1)\n",
        "print(n2)"
      ],
      "metadata": {
        "colab": {
          "base_uri": "https://localhost:8080/"
        },
        "id": "xFLRVlMQa7bq",
        "outputId": "2cfdcf0c-c1e8-4ea9-e842-e4037bb3702c"
      },
      "execution_count": null,
      "outputs": [
        {
          "output_type": "stream",
          "name": "stdout",
          "text": [
            "[3, 7, 13, 21, 7, 12, 19, 28, 13, 19, 27, 37, 21, 28, 37, 48]\n",
            "[5289.999999999999, 5289.999999999999, 5289.999999999999, 5289.999999999999, 5289.999999999999, 5289.999999999999, 5289.999999999999, 5289.999999999999, 5289.999999999999, 5289.999999999999, 5289.999999999999, 5289.999999999999, 5289.999999999999, 5289.999999999999, 5289.999999999999, 5289.999999999999]\n"
          ]
        }
      ]
    }
  ]
}