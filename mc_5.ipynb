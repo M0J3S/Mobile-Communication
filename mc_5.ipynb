{
  "nbformat": 4,
  "nbformat_minor": 0,
  "metadata": {
    "colab": {
      "provenance": [],
      "authorship_tag": "ABX9TyMBB64+l4yp5wxqh+kOPPTJ",
      "include_colab_link": true
    },
    "kernelspec": {
      "name": "python3",
      "display_name": "Python 3"
    },
    "language_info": {
      "name": "python"
    }
  },
  "cells": [
    {
      "cell_type": "markdown",
      "metadata": {
        "id": "view-in-github",
        "colab_type": "text"
      },
      "source": [
        "<a href=\"https://colab.research.google.com/github/M0J3S/Mobile-Communication/blob/main/mc_5.ipynb\" target=\"_parent\"><img src=\"https://colab.research.google.com/assets/colab-badge.svg\" alt=\"Open In Colab\"/></a>"
      ]
    },
    {
      "cell_type": "code",
      "execution_count": null,
      "metadata": {
        "id": "n8xMJiDlcuFs"
      },
      "outputs": [],
      "source": [
        "import numpy as np\n",
        "import matplotlib.pyplot as plt"
      ]
    },
    {
      "cell_type": "code",
      "source": [
        "d = 3000\n",
        "do = 100\n",
        "p = 4\n",
        "pt = 10*np.log10(p*1000)\n",
        "pl_do = -32\n",
        "x0 = 10.5\n",
        "n= 4\n",
        "pt"
      ],
      "metadata": {
        "colab": {
          "base_uri": "https://localhost:8080/"
        },
        "id": "JG9HqCz4dRzw",
        "outputId": "f11abc60-8b7c-4623-e098-a5207e52678d"
      },
      "execution_count": null,
      "outputs": [
        {
          "output_type": "execute_result",
          "data": {
            "text/plain": [
              "36.020599913279625"
            ]
          },
          "metadata": {},
          "execution_count": 3
        }
      ]
    },
    {
      "cell_type": "code",
      "source": [
        "pl1 = pl_do+10*n*np.log10(d/do)\n",
        "pl1"
      ],
      "metadata": {
        "colab": {
          "base_uri": "https://localhost:8080/"
        },
        "id": "xaCvPGHSehZf",
        "outputId": "56dc44c6-c697-47a2-f646-7c088f7eb3f5"
      },
      "execution_count": null,
      "outputs": [
        {
          "output_type": "execute_result",
          "data": {
            "text/plain": [
              "27.084850188786497"
            ]
          },
          "metadata": {},
          "execution_count": 10
        }
      ]
    },
    {
      "cell_type": "code",
      "source": [
        "pr1 = pt - pl1\n",
        "pr1"
      ],
      "metadata": {
        "colab": {
          "base_uri": "https://localhost:8080/"
        },
        "id": "Nla3lh8Fff10",
        "outputId": "7ab6dc19-df03-4e45-ec36-0e768df4995e"
      },
      "execution_count": null,
      "outputs": [
        {
          "output_type": "execute_result",
          "data": {
            "text/plain": [
              "8.935749724493128"
            ]
          },
          "metadata": {},
          "execution_count": 11
        }
      ]
    },
    {
      "cell_type": "code",
      "source": [
        "pl2 = pl_do+10*n*np.log10(d/do)+x0\n",
        "pl2"
      ],
      "metadata": {
        "colab": {
          "base_uri": "https://localhost:8080/"
        },
        "id": "WXAron2Cfum4",
        "outputId": "877af86d-dbc6-40e1-d875-7abb6dc27421"
      },
      "execution_count": null,
      "outputs": [
        {
          "output_type": "execute_result",
          "data": {
            "text/plain": [
              "37.5848501887865"
            ]
          },
          "metadata": {},
          "execution_count": 12
        }
      ]
    },
    {
      "cell_type": "code",
      "source": [
        "pr2 = pt - pl2\n",
        "pr2"
      ],
      "metadata": {
        "colab": {
          "base_uri": "https://localhost:8080/"
        },
        "id": "tczRnV6nf6bj",
        "outputId": "7319d396-5f70-442e-de1d-68cce2d33502"
      },
      "execution_count": null,
      "outputs": [
        {
          "output_type": "execute_result",
          "data": {
            "text/plain": [
              "-1.564250275506872"
            ]
          },
          "metadata": {},
          "execution_count": 13
        }
      ]
    },
    {
      "cell_type": "code",
      "source": [
        "n1, n2= [],[]\n",
        "n = np.arange(2,6,1)\n",
        "for i in n:\n",
        "  pl1 = pl_do+10*i*np.log10(d/do)\n",
        "  pr1 = pt - pl1\n",
        "  n1.append(pr1)\n",
        "  pl2 = pl_do+10*i*np.log10(d/do)+x0\n",
        "  pr2 = pt - pl2\n",
        "  n2.append(pr2)\n",
        "\n",
        "print(n1)\n",
        "print(n2)\n"
      ],
      "metadata": {
        "colab": {
          "base_uri": "https://localhost:8080/"
        },
        "id": "fPMijxM-f_FP",
        "outputId": "88ed8a3c-6678-4100-e08f-40092527322e"
      },
      "execution_count": null,
      "outputs": [
        {
          "output_type": "stream",
          "name": "stdout",
          "text": [
            "[38.47817481888637, 23.706962271689754, 8.935749724493128, -5.835462822703491]\n",
            "[27.978174818886377, 13.206962271689754, -1.564250275506872, -16.33546282270349]\n"
          ]
        }
      ]
    },
    {
      "cell_type": "code",
      "source": [
        "plt.plot(n,n1)\n",
        "plt.plot(n,n2)\n"
      ],
      "metadata": {
        "colab": {
          "base_uri": "https://localhost:8080/",
          "height": 447
        },
        "id": "5TawKrRchZ5T",
        "outputId": "97deff9a-323b-4366-e0e4-66931e582724"
      },
      "execution_count": null,
      "outputs": [
        {
          "output_type": "execute_result",
          "data": {
            "text/plain": [
              "[<matplotlib.lines.Line2D at 0x7e78675747f0>]"
            ]
          },
          "metadata": {},
          "execution_count": 16
        },
        {
          "output_type": "display_data",
          "data": {
            "text/plain": [
              "<Figure size 640x480 with 1 Axes>"
            ],
            "image/png": "[encoded data removed]"
          },
          "metadata": {}
        }
      ]
    }
  ]
}